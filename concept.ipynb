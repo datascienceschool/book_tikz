{
 "cells": [
  {
   "cell_type": "markdown",
   "id": "ba0b477c",
   "metadata": {},
   "source": [
    "# 기본 개념"
   ]
  },
  {
   "cell_type": "markdown",
   "id": "f24921ae",
   "metadata": {},
   "source": [
    "## 좌표"
   ]
  },
  {
   "cell_type": "markdown",
   "id": "41d6540b",
   "metadata": {},
   "source": [
    "## 명령"
   ]
  },
  {
   "cell_type": "markdown",
   "id": "129ea1ad",
   "metadata": {},
   "source": [
    "## 옵션"
   ]
  },
  {
   "cell_type": "markdown",
   "id": "44574fec",
   "metadata": {},
   "source": []
  }
 ],
 "metadata": {
  "language_info": {
   "name": "python"
  }
 },
 "nbformat": 4,
 "nbformat_minor": 5
}
