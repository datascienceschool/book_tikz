{
 "cells": [
  {
   "cell_type": "code",
   "execution_count": 1,
   "metadata": {},
   "outputs": [],
   "source": [
    "%load_ext tikzmagic"
   ]
  },
  {
   "cell_type": "markdown",
   "metadata": {},
   "source": [
    "# 13 Specifying Coordinates"
   ]
  },
  {
   "cell_type": "markdown",
   "metadata": {},
   "source": [
    "## 좌표 표시"
   ]
  },
  {
   "cell_type": "markdown",
   "metadata": {},
   "source": [
    "* 괄호안에 좌표 표시 혹은 좌표 이름\n",
    "\n",
    "```\n",
    "(좌표 표시)\n",
    "```\n",
    "\n"
   ]
  },
  {
   "cell_type": "markdown",
   "metadata": {},
   "source": [
    "## 좌표계"
   ]
  },
  {
   "cell_type": "markdown",
   "metadata": {},
   "source": [
    "* 캔버스 좌표계\n",
    "* XYZ 좌표계\n",
    "* 캔버스 극 좌표계\n",
    "* XY 극 좌표계\n",
    "* 상대 좌표계\n",
    "* 회전 좌표계\n",
    "* 노드 좌표계\n",
    "* 질량중심 좌표계\n",
    "* 직교 좌표계\n",
    "* 교점 좌표계\n",
    "* 계산 좌표계"
   ]
  },
  {
   "cell_type": "markdown",
   "metadata": {},
   "source": [
    "## 캔버스 좌표계"
   ]
  },
  {
   "cell_type": "markdown",
   "metadata": {},
   "source": [
    "* 길이 2개 (단위가 있어야 함)\n",
    "\n",
    "```\n",
    "(길이, 길이)\n",
    "```\n",
    "\n",
    "또는 \n",
    "\n",
    "```\n",
    "(길이 연산식, 길이 연산식)\n",
    "```"
   ]
  },
  {
   "cell_type": "code",
   "execution_count": 2,
   "metadata": {},
   "outputs": [
    {
     "data": {
      "image/png": "[encoded data removed]"
     },
     "metadata": {},
     "output_type": "display_data"
    }
   ],
   "source": [
    "%%tikz\n",
    "\n",
    "\\draw (0cm, 0cm) -- (10cm, 10cm);\n",
    "\n",
    "\\def\\x{5cm}\n",
    "\\def\\y{2}\n",
    "\n",
    "\\draw (0cm+1cm-1cm, 11cm+\\y cm+\\y cm-\\x) -- (\\y * 1 * \\x, 0 * \\y / \\x); "
   ]
  },
  {
   "cell_type": "markdown",
   "metadata": {},
   "source": [
    "## xyz 좌표계"
   ]
  },
  {
   "cell_type": "markdown",
   "metadata": {},
   "source": [
    "* 숫자 2개 또는 숫자 3개 \n",
    "* 단위가 없어야 함\n",
    "* 1번째 좌표는 (10mm, 0) x-벡터\n",
    "* 2번째 좌표는 (0, 10mm) y-벡터\n",
    "* 3번째 좌표는 (-3.85mm, -3.85mm) z-벡터\n",
    "* x, y, z-벡터는 변경가능\n",
    "* `x=길이` 또는 `x={(길이, 길이)}`"
   ]
  },
  {
   "cell_type": "code",
   "execution_count": 3,
   "metadata": {},
   "outputs": [
    {
     "data": {
      "image/png": "[encoded data removed]"
     },
     "metadata": {},
     "output_type": "display_data"
    }
   ],
   "source": [
    "%%tikz -l arrows.meta\n",
    "\n",
    "\\draw[->,densely dashed] (0,0) -- (2,0);\n",
    "\\draw[->,densely dashed] (0,0) -- (0,2);\n",
    "\\draw[->,densely dashed] (0,0) -- (0,0,2);\n",
    "\n",
    "\\def\\z{0.4}\n",
    "\\draw[-Latex] (0,0) -- (1,0,\\z);\n",
    "\\draw[-Latex] (0,0) -- (1,1,\\z);\n",
    "\\draw[-Latex] (1,0,\\z) -- (1,1,\\z);\n"
   ]
  },
  {
   "cell_type": "code",
   "execution_count": 4,
   "metadata": {},
   "outputs": [
    {
     "data": {
      "image/png": "[encoded data removed]"
     },
     "metadata": {},
     "output_type": "display_data"
    }
   ],
   "source": [
    "%%tikz \n",
    "\n",
    "\\draw (0,0,0) -- (0,0,1) -- (0,1,1) -- (0,1,0) -- cycle;\n",
    "\\draw[y=1.5cm,z={(2*-3.85mm, -3.85mm)}] (0,0,0) -- (0,0,1) -- (0,1,1) -- (0,1,0) -- cycle;\n",
    "\\draw[y=2.0cm,z={(3*-3.85mm, -3.85mm)}] (0,0,0) -- (0,0,1) -- (0,1,1) -- (0,1,0) -- cycle;\n",
    "\\draw[z=-1cm] (0,0,0) -- (0,0,1) -- (0,1,1) -- (0,1,0) -- cycle;"
   ]
  },
  {
   "cell_type": "markdown",
   "metadata": {},
   "source": [
    "## 극 좌표계"
   ]
  },
  {
   "cell_type": "markdown",
   "metadata": {},
   "source": [
    "* `(각도:길이)`(캔버스 극 좌표계) 또는 `(각도:숫자)`(xy 극 좌표계)\n",
    "* 각도 단위는 도(degree)\n",
    "* 0도가 시계바늘 3시"
   ]
  },
  {
   "cell_type": "code",
   "execution_count": 5,
   "metadata": {},
   "outputs": [
    {
     "data": {
      "image/png": "[encoded data removed]"
     },
     "metadata": {},
     "output_type": "display_data"
    }
   ],
   "source": [
    "%%tikz\n",
    "\n",
    "\\def\\radius{2cm}\n",
    "\\def\\tick{0.2cm}\n",
    "\n",
    "\\draw (0:\\radius-\\tick) -- (0:\\radius);\n",
    "\\draw (30:\\radius-\\tick) -- (30:\\radius);\n",
    "\\draw (60:\\radius-\\tick) -- (60:\\radius);\n",
    "\\draw (90:\\radius-\\tick) -- (90:\\radius);\n",
    "\\draw[->] (45:0) -- (45:0.6 * \\radius);"
   ]
  },
  {
   "cell_type": "markdown",
   "metadata": {},
   "source": [
    "## 상대 좌표계"
   ]
  },
  {
   "cell_type": "markdown",
   "metadata": {},
   "source": [
    "* `+(좌표)`: 기준점으로부터 상대적 좌표. 기준점은 변하지 않음\n",
    "* `++(좌표)`: 기준점으로부터 상대적 좌표. 기준점이 현재 좌표로 변함\n",
    "* 기준점은 상황에 따라 바뀜. `.. controls (좌표1) and (좌표2) ..`에서 좌표2의 기준점은 뒤의 좌표"
   ]
  },
  {
   "cell_type": "code",
   "execution_count": 6,
   "metadata": {},
   "outputs": [
    {
     "data": {
      "image/png": "[encoded data removed]"
     },
     "metadata": {},
     "output_type": "display_data"
    }
   ],
   "source": [
    "%%tikz\n",
    "\n",
    "\\draw (0,0) -- +(1,0) -- +(1,1) -- +(0,1) -- cycle;\n",
    "\\draw (2,0) -- ++(1,0) -- ++(0,1) -- ++(-1,0) -- cycle;"
   ]
  },
  {
   "cell_type": "code",
   "execution_count": 7,
   "metadata": {},
   "outputs": [
    {
     "data": {
      "image/png": "[encoded data removed]"
     },
     "metadata": {},
     "output_type": "display_data"
    }
   ],
   "source": [
    "%%tikz\n",
    "\n",
    "\\draw (0,1) .. controls +(0:2) and +(90:1) .. (1,0);"
   ]
  },
  {
   "cell_type": "markdown",
   "metadata": {},
   "source": [
    "## 회전 좌표계"
   ]
  },
  {
   "cell_type": "markdown",
   "metadata": {},
   "source": [
    "* `([turn]회전각도:거리)` 또는 `([turn]숫자,숫자)`\n",
    "* 경로 마지막 점이 원점이고 경로의 마지막 진행 방향이 기준 각도 0도"
   ]
  },
  {
   "cell_type": "code",
   "execution_count": 8,
   "metadata": {},
   "outputs": [
    {
     "data": {
      "image/png": "[encoded data removed]"
     },
     "metadata": {},
     "output_type": "display_data"
    }
   ],
   "source": [
    "%%tikz\n",
    "\n",
    "\\draw (0,0) -- (45:1) -- ([turn]45:1) -- ([turn]45:1) ;"
   ]
  },
  {
   "cell_type": "markdown",
   "metadata": {},
   "source": [
    "## 노드 좌표계"
   ]
  },
  {
   "cell_type": "markdown",
   "metadata": {},
   "source": [
    "* (노드명.각도) 또는 (노드명.앵커)"
   ]
  },
  {
   "cell_type": "code",
   "execution_count": 9,
   "metadata": {},
   "outputs": [
    {
     "data": {
      "image/png": "[encoded data removed]"
     },
     "metadata": {},
     "output_type": "display_data"
    }
   ],
   "source": [
    "%%tikz -l shapes\n",
    "\n",
    "\\node[rectangle,draw] (a) at (0,0) {aaaaa};\n",
    "\\node[circle,draw] (b) at (5,0) {bbbbb};\n",
    "\\node[ellipse,draw] (c) at (5,5) {ccccc};\n",
    "\\node (d) at (0,5) {d};\n",
    "\n",
    "\\draw (a.90) -- (c.center);\n",
    "\\draw (a.east) -- (b.180);\n",
    "\\draw (d) -- (b.100);"
   ]
  },
  {
   "cell_type": "markdown",
   "metadata": {},
   "source": [
    "## 질량중심 좌표계"
   ]
  },
  {
   "cell_type": "markdown",
   "metadata": {},
   "source": [
    "* `(barycentric cs:<노드명>=숫자)`\n",
    "* 숫자를 가중치로 하는 노드의 가중평균"
   ]
  },
  {
   "cell_type": "code",
   "execution_count": 10,
   "metadata": {},
   "outputs": [
    {
     "data": {
      "image/png": "[encoded data removed]"
     },
     "metadata": {},
     "output_type": "display_data"
    }
   ],
   "source": [
    "%%tikz\n",
    "\n",
    "\\node (a) at (0,0) {a};\n",
    "\\node (b) at (3,3) {b};\n",
    "\\draw (a) -- (b);\n",
    "\n",
    "\\tikzset{radius=3pt};\n",
    "\\draw (barycentric cs:a=1,b=1) circle ;\n",
    "\\draw (barycentric cs:a=1,b=3) circle ;"
   ]
  },
  {
   "cell_type": "markdown",
   "metadata": {},
   "source": [
    "## 직교 좌표계"
   ]
  },
  {
   "cell_type": "markdown",
   "metadata": {},
   "source": [
    "* `(노드명 |- 노드명)`\n",
    "* `(노드명 -| 노드명)`"
   ]
  },
  {
   "cell_type": "code",
   "execution_count": 11,
   "metadata": {},
   "outputs": [
    {
     "data": {
      "image/png": "[encoded data removed]"
     },
     "metadata": {},
     "output_type": "display_data"
    }
   ],
   "source": [
    "%%tikz\n",
    "\n",
    "\\coordinate (a) at (0,0);\n",
    "\\coordinate (b) at (1,1);\n",
    "\n",
    "\\fill (a) circle (2pt) node[below left] {a};\n",
    "\\fill (b) circle (2pt) node[above right] {b};\n",
    "\\fill (a |- b) circle (2pt) node[above left] {c};\n",
    "\\fill (a -| b) circle (2pt) node[below right] {d};\n"
   ]
  },
  {
   "cell_type": "markdown",
   "metadata": {},
   "source": [
    "## 교점 좌표계"
   ]
  },
  {
   "cell_type": "markdown",
   "metadata": {},
   "source": [
    "* `intersections` 라이브러리 사용\n",
    "* `name path=경로이름`로 2개의 경로 지정\n",
    "* `name intersections={of 경로이름1 and 경로이름2}`로 교점 지점\n",
    "* 교점의 이름은 `intersection-1`, `intersection-2` ..."
   ]
  },
  {
   "cell_type": "code",
   "execution_count": 12,
   "metadata": {},
   "outputs": [
    {
     "data": {
      "image/png": "[encoded data removed]"
     },
     "metadata": {},
     "output_type": "display_data"
    }
   ],
   "source": [
    "%%tikz -l intersections\n",
    "\n",
    "\\path[name path=path 1] (0,0) -- (0.9,0);\n",
    "\\draw[name path=path 2] (1,0) -- ++(0,0,1) -- ++(0,1,0) -- ++(0,0,-1) -- cycle;\n",
    "\\path[name intersections={of=path 1 and path 2}];\n",
    "\\draw(0,0) -- (intersection-1);\n",
    "\\draw[densely dotted] (intersection-1) -- (1,0);"
   ]
  },
  {
   "cell_type": "markdown",
   "metadata": {},
   "source": [
    "## 계산 좌표계"
   ]
  },
  {
   "cell_type": "markdown",
   "metadata": {},
   "source": [
    "* `calc` 라이브러리 사용\n",
    "* `($ 노드 계산식 $)`\n",
    "* `(좌표1) !숫자! 각도: (좌표2)`: 숫자는 좌표1과 좌표2 사이의 위치 (0=좌표1, 1=좌표2). 좌표1 기준으로 회전\n",
    "* `(좌표1) !거리! 각도: (좌표2)`: 거리는 좌표1부터 좌표2 방향의 겨리. 좌표1 기준으로 회전\n",
    "* `(좌표1) !(좌표3)! 각도: (좌표2)`: 좌표1과 좌표2 사이에 좌표3이 투영된 위치. 좌표3 기준으로 회전"
   ]
  },
  {
   "cell_type": "code",
   "execution_count": 13,
   "metadata": {},
   "outputs": [
    {
     "data": {
      "image/png": "[encoded data removed]"
     },
     "metadata": {},
     "output_type": "display_data"
    }
   ],
   "source": [
    "%%tikz -l calc\n",
    "\n",
    "\\draw (0,0) -- (1,0);\n",
    "\\draw ($(0,0)!0.5!(1,0)$) circle (1pt);\n",
    "\\draw ($(0,0)!0.5! 90: (1,0)$) circle (1pt);\n",
    "\n",
    "\\draw (0,1) -- (1, 1);\n",
    "\\draw ($(0,1)!2cm!(1,1)$) circle (1pt);\n",
    "\\draw ($(0,1)!2cm! -5: (1,1)$) circle (1pt);\n",
    "\n",
    "\\draw (0,2) -- (1, 2);\n",
    "\\draw (0.5,3) circle (1pt);\n",
    "\\draw ($(0,2)!(0.5,3)!(1,2)$) circle (1pt);\n",
    "\\draw ($(0,2)!(0.5,3)! 10: (1,2)$) circle (1pt);\n"
   ]
  },
  {
   "cell_type": "code",
   "execution_count": null,
   "metadata": {},
   "outputs": [],
   "source": []
  },
  {
   "cell_type": "code",
   "execution_count": null,
   "metadata": {},
   "outputs": [],
   "source": []
  },
  {
   "cell_type": "code",
   "execution_count": null,
   "metadata": {},
   "outputs": [],
   "source": []
  },
  {
   "cell_type": "code",
   "execution_count": null,
   "metadata": {},
   "outputs": [],
   "source": []
  },
  {
   "cell_type": "code",
   "execution_count": null,
   "metadata": {},
   "outputs": [],
   "source": []
  }
 ],
 "metadata": {
  "kernelspec": {
   "display_name": "Python 3",
   "language": "python",
   "name": "python3"
  },
  "language_info": {
   "codemirror_mode": {
    "name": "ipython",
    "version": 3
   },
   "file_extension": ".py",
   "mimetype": "text/x-python",
   "name": "python",
   "nbconvert_exporter": "python",
   "pygments_lexer": "ipython3",
   "version": "3.7.1"
  }
 },
 "nbformat": 4,
 "nbformat_minor": 2
}
