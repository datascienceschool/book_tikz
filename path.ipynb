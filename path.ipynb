{
 "cells": [
  {
   "cell_type": "raw",
   "id": "47902902",
   "metadata": {
    "vscode": {
     "languageId": "raw"
    }
   },
   "source": [
    "---\n",
    "echo: false\n",
    "---"
   ]
  },
  {
   "cell_type": "raw",
   "id": "9db75783",
   "metadata": {
    "vscode": {
     "languageId": "raw"
    }
   },
   "source": [
    "::: {.hidden}\n",
    "\n",
    "- Manual, Chapter 15\n",
    "  - chrome-extension://oemmndcbldboiebfnladdacbdfmadadm/https://pgf-tikz.github.io/pgf/pgfmanual.pdf#section.15)\n",
    "\n",
    ":::"
   ]
  },
  {
   "cell_type": "code",
   "execution_count": 1,
   "id": "892558c3",
   "metadata": {},
   "outputs": [],
   "source": [
    "# | echo: false\n",
    "# | output: false\n",
    "%load_ext jupyter_tikz"
   ]
  },
  {
   "cell_type": "code",
   "execution_count": 17,
   "id": "edbae2c9",
   "metadata": {},
   "outputs": [],
   "source": [
    "# | echo: false\n",
    "# | output: false\n",
    "preamble = r\"\"\"\n",
    "\\usepackage{kotex}\n",
    "\\usepackage{tikz}\n",
    "\\usetikzlibrary{shapes.geometric}\n",
    "\\setmainhangulfont{Noto Sans KR}\n",
    "\"\"\""
   ]
  },
  {
   "cell_type": "markdown",
   "id": "3854d55c",
   "metadata": {},
   "source": [
    "# `path` 명령 "
   ]
  },
  {
   "cell_type": "markdown",
   "id": "15365535",
   "metadata": {},
   "source": [
    "- tikz의 중요 명령은 사실 모두 `\\path` 명령의 변형이다.\n",
    "- `\\path` 명령은 \n",
    "  - **옵션**에서 지정한 방식대로 \n",
    "  - **명령인수**에서 지정한 그림을 그린다."
   ]
  },
  {
   "cell_type": "markdown",
   "id": "f328ce6b",
   "metadata": {},
   "source": [
    "## 옵션"
   ]
  },
  {
   "cell_type": "markdown",
   "id": "22446bd9",
   "metadata": {},
   "source": [
    "- `\\path` 명령의 옵션은 뒤에 올 인수를 \"어떻게\" 처리하는지를 지시하는 정보다.\n",
    "- 복수의 옵션을 같이 사용할 수 있다.\n",
    "- 옵션 자체의 값인수를 `=옵션값` 형식으로 첨부할 수 있다."
   ]
  },
  {
   "cell_type": "markdown",
   "id": "4298dd74",
   "metadata": {},
   "source": [
    "| 옵션 | 옵션값 인수 | 설명 |\n",
    "|-|-|-|\n",
    "| `draw`     | `<color>`   | 선을 그린다. |\n",
    "| `fill`     | `<color>`   | 선으로 닫힌 공간을 색상으로 채운다. |\n",
    "| `pattern`  | `<pattern>` | 선으로 닫힌 공간을 패턴으로 채운다. |\n",
    "| `shade`    | -         | 선으로 닫힌 공간을 세이딩한다. |\n",
    "| `clip`     | -         | 선으로 닫힌 공간을 잘라낸다. |\n"
   ]
  },
  {
   "cell_type": "markdown",
   "id": "03e32bf9",
   "metadata": {},
   "source": [
    "## 명령인수"
   ]
  },
  {
   "cell_type": "markdown",
   "id": "ca071d21",
   "metadata": {},
   "source": [
    "- `\\path` 명령의 명령인수는 현재 펜의 좌표 또는 현재 펜의 좌표와 추가적인 지정좌표 사이에서 어떤 그림을 그리는지를 지시한다.\n",
    "- 그림의 형태를 자세하게 지정하기 위해 명령인수 뒤에 명령인수 자체의 옵션값을 붙일 수 있다."
   ]
  },
  {
   "cell_type": "markdown",
   "id": "587e5814",
   "metadata": {},
   "source": [
    "| 명령인수 | 형식 | 그림 | 펜 이동 | 옵션 |\n",
    "|-|----|----|-|--|\n",
    "| move-to   | `<좌표>` | - | 이동 | - |\n",
    "| line-to   | `-- <좌표>` | 현재 펜 좌표에서 지정좌표까지 직선을 그린다. | 이동 | - |\n",
    "| curve-to  | `.. controls <좌표> .. <좌표>` | 현재 펜 좌표에서 지정좌표까지 곡선을 그린다. | 이동 | - |\n",
    "| circle    | `circle` | 현재 펜 좌표에서 원을 그린다. | - | `radius` |\n",
    "| rectangle | `rectangle <좌표>` | 현재 펜 좌표에서 지정좌표까지 사각형을 그린다. | 이동 | - |\n",
    "| grid      | `grid <좌표>` | 현재 펜 좌표에서 지정좌표까지 그리드를 그린다. | 이동 | `step` |\n",
    "| node      | `node {text}` | 현재 펜 좌표에서 텍스트박스를 그린다. | - | `shape`, `draw`, `fill`, ... |\n"
   ]
  },
  {
   "cell_type": "markdown",
   "id": "0f551b2f",
   "metadata": {},
   "source": [
    "### 라인"
   ]
  },
  {
   "cell_type": "code",
   "execution_count": 3,
   "id": "44a20c27",
   "metadata": {},
   "outputs": [
    {
     "name": "stdout",
     "output_type": "stream",
     "text": [
      "\\documentclass{standalone}\n",
      "\\usepackage{kotex}\n",
      "\\usepackage{tikz}\n",
      "\\setmainhangulfont{Noto Sans KR}\n",
      "\\begin{document}\n",
      "    \\begin{tikzpicture}\n",
      "      \\path[draw]\n",
      "        (0,0)\n",
      "        -- (1,0)\n",
      "        ;\n",
      "    \\end{tikzpicture}\n",
      "\\end{document}\n"
     ]
    },
    {
     "data": {
      "image/png": "[encoded data removed]",
      "text/plain": [
       "<IPython.core.display.Image object>"
      ]
     },
     "execution_count": 3,
     "metadata": {},
     "output_type": "execute_result"
    }
   ],
   "source": [
    "%%tikz -pt -tp xelatex -p \"$preamble\" -r -d 300\n",
    "\\begin{tikzpicture}\n",
    "  \\path[draw]\n",
    "    (0,0)\n",
    "    -- (1,0)\n",
    "    ;\n",
    "\\end{tikzpicture}"
   ]
  },
  {
   "cell_type": "markdown",
   "id": "b1ba042a",
   "metadata": {},
   "source": [
    "### 원"
   ]
  },
  {
   "cell_type": "code",
   "execution_count": 4,
   "id": "a693b333",
   "metadata": {},
   "outputs": [
    {
     "name": "stdout",
     "output_type": "stream",
     "text": [
      "\\documentclass{standalone}\n",
      "\\usepackage{kotex}\n",
      "\\usepackage{tikz}\n",
      "\\setmainhangulfont{Noto Sans KR}\n",
      "\\begin{document}\n",
      "    \\begin{tikzpicture}\n",
      "      \\path[draw=black,fill=lightgray]\n",
      "        (0,0)\n",
      "        circle[radius=1cm]\n",
      "        ;\n",
      "    \\end{tikzpicture}\n",
      "\\end{document}\n"
     ]
    },
    {
     "data": {
      "image/png": "[encoded data removed]",
      "text/plain": [
       "<IPython.core.display.Image object>"
      ]
     },
     "execution_count": 4,
     "metadata": {},
     "output_type": "execute_result"
    }
   ],
   "source": [
    "%%tikz -pt -tp xelatex -p \"$preamble\" -r -d 300\n",
    "\\begin{tikzpicture}\n",
    "  \\path[draw=black,fill=lightgray]\n",
    "    (0,0)\n",
    "    circle[radius=1cm]\n",
    "    ;\n",
    "\\end{tikzpicture}"
   ]
  },
  {
   "cell_type": "code",
   "execution_count": 5,
   "id": "3aa612e8",
   "metadata": {},
   "outputs": [
    {
     "name": "stdout",
     "output_type": "stream",
     "text": [
      "\\documentclass{standalone}\n",
      "\\usepackage{kotex}\n",
      "\\usepackage{tikz}\n",
      "\\setmainhangulfont{Noto Sans KR}\n",
      "\\begin{document}\n",
      "    \\begin{tikzpicture}\n",
      "      \\path[draw,fill=lightgray]\n",
      "        (0,0)\n",
      "        circle[radius=0.1cm]\n",
      "        -- (1,0)\n",
      "        circle[radius=0.1cm]\n",
      "        -- (1,1)\n",
      "        circle[radius=0.1cm]\n",
      "        ;\n",
      "    \\end{tikzpicture}\n",
      "\\end{document}\n"
     ]
    },
    {
     "data": {
      "image/png": "[encoded data removed]",
      "text/plain": [
       "<IPython.core.display.Image object>"
      ]
     },
     "execution_count": 5,
     "metadata": {},
     "output_type": "execute_result"
    }
   ],
   "source": [
    "%%tikz -pt -tp xelatex -p \"$preamble\" -r -d 300\n",
    "\\begin{tikzpicture}\n",
    "  \\path[draw,fill=lightgray]\n",
    "    (0,0)\n",
    "    circle[radius=0.1cm]\n",
    "    -- (1,0)\n",
    "    circle[radius=0.1cm]\n",
    "    -- (1,1)\n",
    "    circle[radius=0.1cm]\n",
    "    ;\n",
    "\\end{tikzpicture}"
   ]
  },
  {
   "cell_type": "code",
   "execution_count": 6,
   "id": "81249710",
   "metadata": {},
   "outputs": [
    {
     "name": "stdout",
     "output_type": "stream",
     "text": [
      "\\documentclass{standalone}\n",
      "\\usepackage{kotex}\n",
      "\\usepackage{tikz}\n",
      "\\setmainhangulfont{Noto Sans KR}\n",
      "\\begin{document}\n",
      "    \\begin{tikzpicture}\n",
      "      \\path[draw, fill=lightgray]\n",
      "        (0,0)\n",
      "        -- (1,0)\n",
      "        circle[radius=0.1cm]\n",
      "        -- (1,1)\n",
      "        -- (0,0)\n",
      "        ;\n",
      "    \\end{tikzpicture}\n",
      "\\end{document}\n"
     ]
    },
    {
     "data": {
      "image/png": "[encoded data removed]",
      "text/plain": [
       "<IPython.core.display.Image object>"
      ]
     },
     "execution_count": 6,
     "metadata": {},
     "output_type": "execute_result"
    }
   ],
   "source": [
    "%%tikz -pt -tp xelatex -p \"$preamble\" -r -d 300\n",
    "\\begin{tikzpicture}\n",
    "  \\path[draw, fill=lightgray]\n",
    "    (0,0)\n",
    "    -- (1,0)\n",
    "    circle[radius=0.1cm]\n",
    "    -- (1,1)\n",
    "    -- (0,0)\n",
    "    ;\n",
    "\\end{tikzpicture}"
   ]
  },
  {
   "cell_type": "code",
   "execution_count": null,
   "id": "460826f4",
   "metadata": {},
   "outputs": [
    {
     "name": "stdout",
     "output_type": "stream",
     "text": [
      "\\documentclass{standalone}\n",
      "\\usepackage{kotex}\n",
      "\\usepackage{tikz}\n",
      "\\setmainhangulfont{Noto Sans KR}\n",
      "\\begin{document}\n",
      "    \\begin{tikzpicture}\n",
      "      \\path[draw, fill=lightgray]\n",
      "        (0,0)\n",
      "        -- (1,0)\n",
      "        circle[radius=0.1cm]\n",
      "        -- (0.6,1)\n",
      "        rectangle (0.4,0.5)\n",
      "        -- (0,0);\n",
      "    \\end{tikzpicture}\n",
      "\\end{document}\n"
     ]
    },
    {
     "data": {
      "image/png": "[encoded data removed]",
      "text/plain": [
       "<IPython.core.display.Image object>"
      ]
     },
     "execution_count": 7,
     "metadata": {},
     "output_type": "execute_result"
    }
   ],
   "source": [
    "%%tikz -pt -tp xelatex -p \"$preamble\" -r -d 300\n",
    "\\begin{tikzpicture}\n",
    "  \\path[draw, fill=lightgray]\n",
    "    (0,0)\n",
    "    -- (1,0)\n",
    "    circle[radius=0.1cm]\n",
    "    -- (0.6,1)\n",
    "    rectangle (0.4,0.5)\n",
    "    -- (0,0);\n",
    "\\end{tikzpicture}"
   ]
  },
  {
   "cell_type": "markdown",
   "id": "d05f7251",
   "metadata": {},
   "source": [
    "### node"
   ]
  },
  {
   "cell_type": "markdown",
   "id": "a60d05fd",
   "metadata": {},
   "source": [
    "- 노드는 특수한 명령인수다.\n",
    "- `{}`의 형태로 텍스트를 받아서 그린다.\n",
    "- 상위 `\\path` 명령의 `draw`, `fill` 옵션의 영향을 받지 않고 자체 `draw`, `fill` 옵션만 따른다."
   ]
  },
  {
   "cell_type": "code",
   "execution_count": 21,
   "id": "e3ffb001",
   "metadata": {},
   "outputs": [
    {
     "name": "stdout",
     "output_type": "stream",
     "text": [
      "\\documentclass{standalone}\n",
      "\\usepackage{kotex}\n",
      "\\usepackage{tikz}\n",
      "\\usetikzlibrary{shapes.geometric}\n",
      "\\setmainhangulfont{Noto Sans KR}\n",
      "\\begin{document}\n",
      "    \\begin{tikzpicture}\n",
      "      \\path\n",
      "        (0,0) node {가}\n",
      "        (1,0) node[draw] {나}\n",
      "        (2,0) node[draw,fill=lightgray] {다}\n",
      "        ;\n",
      "    \\end{tikzpicture}\n",
      "\\end{document}\n"
     ]
    },
    {
     "data": {
      "image/png": "[encoded data removed]",
      "text/plain": [
       "<IPython.core.display.Image object>"
      ]
     },
     "execution_count": 21,
     "metadata": {},
     "output_type": "execute_result"
    }
   ],
   "source": [
    "%%tikz -pt -tp xelatex -p \"$preamble\" -r -d 300\n",
    "\\begin{tikzpicture}\n",
    "  \\path\n",
    "    (0,0) node {가}\n",
    "    (1,0) node[draw] {나}\n",
    "    (2,0) node[draw,fill=lightgray] {다}\n",
    "    ;\n",
    "\\end{tikzpicture}"
   ]
  },
  {
   "cell_type": "markdown",
   "id": "add4378a",
   "metadata": {},
   "source": [
    "- `shape` 자체옵션값을 지정하여 박스의 모양을 바꿀 수 있다.\n",
    "-  `shape` 자체옵션값을 지정할 때 `shape=` 부분을 생략하고 값만 쓸 수 있다."
   ]
  },
  {
   "cell_type": "code",
   "execution_count": 20,
   "id": "bac55b26",
   "metadata": {},
   "outputs": [
    {
     "name": "stdout",
     "output_type": "stream",
     "text": [
      "\\documentclass{standalone}\n",
      "\\usepackage{kotex}\n",
      "\\usepackage{tikz}\n",
      "\\usetikzlibrary{shapes.geometric}\n",
      "\\setmainhangulfont{Noto Sans KR}\n",
      "\\begin{document}\n",
      "    \\begin{tikzpicture}\n",
      "      \\path\n",
      "        (0,0) node[draw,shape=circle] {가}\n",
      "        (1,0) node[draw,circle] {나}\n",
      "        (2,0) node[draw,diamond] {다}\n",
      "        ;\n",
      "    \\end{tikzpicture}\n",
      "\\end{document}\n"
     ]
    },
    {
     "data": {
      "image/png": "[encoded data removed]",
      "text/plain": [
       "<IPython.core.display.Image object>"
      ]
     },
     "execution_count": 20,
     "metadata": {},
     "output_type": "execute_result"
    }
   ],
   "source": [
    "%%tikz -pt -tp xelatex -p \"$preamble\" -r -d 300\n",
    "\\begin{tikzpicture}\n",
    "  \\path\n",
    "    (0,0) node[draw,shape=circle] {가}\n",
    "    (1,0) node[draw,circle] {나}\n",
    "    (2,0) node[draw,diamond] {다}\n",
    "    ;\n",
    "\\end{tikzpicture}"
   ]
  },
  {
   "cell_type": "markdown",
   "id": "d96bca18",
   "metadata": {},
   "source": [
    "- \"`at <좌표>`\" 특수 인수를 붙이면 현재 좌표와 아무런 상관없이 지정한 좌표에 놓을 수 있다. "
   ]
  },
  {
   "cell_type": "code",
   "execution_count": 24,
   "id": "d6d5951b",
   "metadata": {},
   "outputs": [
    {
     "name": "stdout",
     "output_type": "stream",
     "text": [
      "\\documentclass{standalone}\n",
      "\\usepackage{kotex}\n",
      "\\usepackage{tikz}\n",
      "\\usetikzlibrary{shapes.geometric}\n",
      "\\setmainhangulfont{Noto Sans KR}\n",
      "\\begin{document}\n",
      "    \\begin{tikzpicture}\n",
      "      \\path\n",
      "        node[draw,circle]  at (0,0) {가}\n",
      "        node[draw,circle]  at (1,0) {나}\n",
      "        node[draw,diamond] at (2,0) {다}\n",
      "        ;\n",
      "    \\end{tikzpicture}\n",
      "\\end{document}\n"
     ]
    },
    {
     "data": {
      "image/png": "[encoded data removed]",
      "text/plain": [
       "<IPython.core.display.Image object>"
      ]
     },
     "execution_count": 24,
     "metadata": {},
     "output_type": "execute_result"
    }
   ],
   "source": [
    "%%tikz -pt -tp xelatex -p \"$preamble\" -r -d 300\n",
    "\\begin{tikzpicture}\n",
    "  \\path\n",
    "    node[draw,circle]  at (0,0) {가}\n",
    "    node[draw,circle]  at (1,0) {나}\n",
    "    node[draw,diamond] at (2,0) {다}\n",
    "    ;\n",
    "\\end{tikzpicture}"
   ]
  },
  {
   "cell_type": "markdown",
   "id": "dffca0eb",
   "metadata": {},
   "source": [
    "- 재사용을 위해 \"`node (이름)`\"의 형태로 이름을 붙일 수 있다."
   ]
  },
  {
   "cell_type": "code",
   "execution_count": 25,
   "id": "54b78537",
   "metadata": {},
   "outputs": [
    {
     "name": "stdout",
     "output_type": "stream",
     "text": [
      "\\documentclass{standalone}\n",
      "\\usepackage{kotex}\n",
      "\\usepackage{tikz}\n",
      "\\usetikzlibrary{shapes.geometric}\n",
      "\\setmainhangulfont{Noto Sans KR}\n",
      "\\begin{document}\n",
      "    \\begin{tikzpicture}\n",
      "      \\path\n",
      "        node[draw,circle]  (a) at (0,0) {가}\n",
      "        node[draw,circle]  (b) at (1,0) {나}\n",
      "        node[draw,diamond] (c) at (2,0) {다}\n",
      "        ;\n",
      "    \\end{tikzpicture}\n",
      "\\end{document}\n"
     ]
    },
    {
     "data": {
      "image/png": "[encoded data removed]",
      "text/plain": [
       "<IPython.core.display.Image object>"
      ]
     },
     "execution_count": 25,
     "metadata": {},
     "output_type": "execute_result"
    }
   ],
   "source": [
    "%%tikz -pt -tp xelatex -p \"$preamble\" -r -d 300\n",
    "\\begin{tikzpicture}\n",
    "  \\path\n",
    "    node[draw,circle]  (a) at (0,0) {가}\n",
    "    node[draw,circle]  (b) at (1,0) {나}\n",
    "    node[draw,diamond] (c) at (2,0) {다}\n",
    "    ;\n",
    "\\end{tikzpicture}"
   ]
  },
  {
   "cell_type": "markdown",
   "id": "0624a311",
   "metadata": {},
   "source": [
    "- `\\path ... node ... ` 명령을 `\\node ...`로 축약 가능"
   ]
  },
  {
   "cell_type": "code",
   "execution_count": 26,
   "id": "d4a4e271",
   "metadata": {},
   "outputs": [
    {
     "name": "stdout",
     "output_type": "stream",
     "text": [
      "\\documentclass{standalone}\n",
      "\\usepackage{kotex}\n",
      "\\usepackage{tikz}\n",
      "\\usetikzlibrary{shapes.geometric}\n",
      "\\setmainhangulfont{Noto Sans KR}\n",
      "\\begin{document}\n",
      "    \\begin{tikzpicture}\n",
      "      \\node[draw,circle]  (a) at (0,0) {가};\n",
      "      \\node[draw,circle]  (b) at (1,0) {나};\n",
      "      \\node[draw,diamond] (c) at (2,0) {다};\n",
      "    \\end{tikzpicture}\n",
      "\\end{document}\n"
     ]
    },
    {
     "data": {
      "image/png": "[encoded data removed]",
      "text/plain": [
       "<IPython.core.display.Image object>"
      ]
     },
     "execution_count": 26,
     "metadata": {},
     "output_type": "execute_result"
    }
   ],
   "source": [
    "%%tikz -pt -tp xelatex -p \"$preamble\" -r -d 300\n",
    "\\begin{tikzpicture}\n",
    "  \\node[draw,circle]  (a) at (0,0) {가};\n",
    "  \\node[draw,circle]  (b) at (1,0) {나};\n",
    "  \\node[draw,diamond] (c) at (2,0) {다};\n",
    "\\end{tikzpicture}"
   ]
  },
  {
   "cell_type": "code",
   "execution_count": null,
   "id": "4bd6f29f",
   "metadata": {},
   "outputs": [],
   "source": []
  }
 ],
 "metadata": {
  "kernelspec": {
   "display_name": "base",
   "language": "python",
   "name": "python3"
  },
  "language_info": {
   "codemirror_mode": {
    "name": "ipython",
    "version": 3
   },
   "file_extension": ".py",
   "mimetype": "text/x-python",
   "name": "python",
   "nbconvert_exporter": "python",
   "pygments_lexer": "ipython3",
   "version": "3.12.8"
  }
 },
 "nbformat": 4,
 "nbformat_minor": 5
}
