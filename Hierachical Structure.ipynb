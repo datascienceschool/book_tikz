{
 "cells": [
  {
   "cell_type": "code",
   "execution_count": 28,
   "metadata": {},
   "outputs": [
    {
     "name": "stdout",
     "output_type": "stream",
     "text": [
      "The tikzmagic extension is already loaded. To reload it, use:\n",
      "  %reload_ext tikzmagic\n"
     ]
    }
   ],
   "source": [
    "%load_ext tikzmagic"
   ]
  },
  {
   "cell_type": "markdown",
   "metadata": {},
   "source": [
    "# 12. Hierachical Structure"
   ]
  },
  {
   "cell_type": "markdown",
   "metadata": {},
   "source": [
    "## scope"
   ]
  },
  {
   "cell_type": "markdown",
   "metadata": {},
   "source": [
    "```\n",
    "\\begin{scope}[<options>]\n",
    "<tikz command>;\n",
    "<tikz command>;\n",
    "<tikz command>;\n",
    "\\end{scope}\n",
    "```\n",
    "\n",
    "또는\n",
    "\n",
    "```\n",
    "\\scoped[<options>] <single tikz command>;\n",
    "```\n",
    "\n",
    "또는\n",
    "\n",
    "```\n",
    "\\path .... {[<options>] path commands } .... ;\n",
    "```"
   ]
  },
  {
   "cell_type": "markdown",
   "metadata": {},
   "source": [
    "> Q: 왜 color 옵션은 \\tikzset 에서 듣지 않는 것인가?"
   ]
  },
  {
   "cell_type": "markdown",
   "metadata": {},
   "source": [
    "## `<key>=<value>` 처리"
   ]
  },
  {
   "cell_type": "markdown",
   "metadata": {},
   "source": [
    "1. `<key>`가 백슬래시로 시작하면 바로 처리\n",
    "1. `\\tikz\\<key>` 검색\n",
    "1. `\\pgf\\<key>` 검색\n",
    "1. color라면 `color=<key>`\n",
    "1. dash를 포함하면 `arrows=<key>`\n",
    "1. shape라면 `shape=<key>`\n"
   ]
  },
  {
   "cell_type": "markdown",
   "metadata": {},
   "source": [
    "## 색상 "
   ]
  },
  {
   "cell_type": "markdown",
   "metadata": {},
   "source": [
    "* `color=<color>`: 선과 텍스트, 채우기 모두\n",
    "* `draw=<color>`: 선만\n",
    "* `fill=<color>`: 채우기만\n",
    "* `text=<color>`: 텍스트만"
   ]
  },
  {
   "cell_type": "markdown",
   "metadata": {},
   "source": [
    "## 스타일"
   ]
  },
  {
   "cell_type": "markdown",
   "metadata": {},
   "source": [
    "```\n",
    "\\tikzset{style name/.style={<options>}}\n",
    "```\n",
    "\n",
    "* 인수\n",
    "\n",
    "```\n",
    "\\tikzset{style name/.style={<options with #1>}}\n",
    "```\n",
    "\n",
    "* 인수 디폴트값\n",
    "\n",
    "```\n",
    "\\tikzset{style name/.default={디폴트값}}\n",
    "```\n"
   ]
  },
  {
   "cell_type": "code",
   "execution_count": 65,
   "metadata": {},
   "outputs": [
    {
     "data": {
      "image/png": "[encoded data removed]"
     },
     "metadata": {},
     "output_type": "display_data"
    }
   ],
   "source": [
    "%%tikz\n",
    "\n",
    "\n",
    "\n",
    "\\draw (0,0) grid (2,2);\n",
    "\\draw[help lines] (2,0) grid +(2,2);\n",
    "\n",
    "\\tikzset{help lines/.style={red!50, #1}};\n",
    "\\tikzset{help lines/.default=ultra thick};\n",
    "\n",
    "\\draw[help lines=ultra thin] (0,0) grid +(2,-2);"
   ]
  },
  {
   "cell_type": "code",
   "execution_count": null,
   "metadata": {},
   "outputs": [],
   "source": []
  },
  {
   "cell_type": "code",
   "execution_count": null,
   "metadata": {},
   "outputs": [],
   "source": []
  }
 ],
 "metadata": {
  "kernelspec": {
   "display_name": "Python 3",
   "language": "python",
   "name": "python3"
  },
  "language_info": {
   "codemirror_mode": {
    "name": "ipython",
    "version": 3
   },
   "file_extension": ".py",
   "mimetype": "text/x-python",
   "name": "python",
   "nbconvert_exporter": "python",
   "pygments_lexer": "ipython3",
   "version": "3.7.1"
  }
 },
 "nbformat": 4,
 "nbformat_minor": 2
}
