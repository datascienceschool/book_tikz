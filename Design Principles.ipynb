{
 "cells": [
  {
   "cell_type": "markdown",
   "metadata": {},
   "source": [
    "# Design Principles"
   ]
  },
  {
   "cell_type": "markdown",
   "metadata": {},
   "source": [
    "### 사용법"
   ]
  },
  {
   "cell_type": "markdown",
   "metadata": {},
   "source": [
    "* LaTeX\n",
    "\n",
    "  ```\n",
    "  \\usepackage{tikz}\n",
    "  ```\n",
    "\n",
    "* TeX\n",
    "\n",
    "  ```\n",
    "  \\input tikz.tex\n",
    "  ```"
   ]
  },
  {
   "cell_type": "markdown",
   "metadata": {},
   "source": [
    "### 문법"
   ]
  },
  {
   "cell_type": "markdown",
   "metadata": {},
   "source": [
    "1. 좌표 지정\n",
    "1. 경로 지정\n",
    "1. 경로 액션\n",
    "1. 키-값쌍 파라미터\n",
    "1. 노드 \n",
    "1. 트리\n",
    "1. 그래프\n",
    "1. 파라미터 그룹\n",
    "1. 좌표변환\n"
   ]
  },
  {
   "cell_type": "markdown",
   "metadata": {},
   "source": [
    "## 좌표 지정"
   ]
  },
  {
   "cell_type": "markdown",
   "metadata": {},
   "source": [
    "* 2차원 `(숫자 + 단위, 숫자 + 단위)`\n",
    "\n",
    "  * `(1cm,2pt)`\n",
    "  * 단위가 생략되면 xy-좌표계 단위 사용\n",
    "  * 디폴트 좌표계는 (1cm 오른쪽, 1cm 위쪽)\n",
    "\n",
    "\n",
    "* 3차원 `(숫자 + 단위, 숫자 + 단위, 숫자 + 단위)`\n",
    "\n",
    "  * 단위가 생략되면 xyz-좌표계 단위 사용\n",
    "  * 디폴트 좌표계는 (1cm 오른쪽, 1cm 위쪽, (-3.85mm,-3.85mm) 왼쪽아래)\n",
    "\n",
    "\n",
    "* 앵커 `(앵커 이름)`\n",
    "\n",
    "\n",
    "* 좌표 이동\n",
    "\n",
    "  * `+(x,y)`: 현재 좌표에서 이동한 좌표, 이전 좌표를 이동시키지 않음\n",
    "  * `++(x,y)`: 현재 좌표에서 이동한 좌표, 이전 좌표를 이동시킴"
   ]
  },
  {
   "cell_type": "markdown",
   "metadata": {},
   "source": [
    "## 경로 지정"
   ]
  },
  {
   "cell_type": "markdown",
   "metadata": {},
   "source": [
    "* 좌표의 열(sequence)로 나타낸다."
   ]
  },
  {
   "cell_type": "code",
   "execution_count": null,
   "metadata": {},
   "outputs": [],
   "source": []
  }
 ],
 "metadata": {
  "kernelspec": {
   "display_name": "Python 3",
   "language": "python",
   "name": "python3"
  },
  "language_info": {
   "codemirror_mode": {
    "name": "ipython",
    "version": 3
   },
   "file_extension": ".py",
   "mimetype": "text/x-python",
   "name": "python",
   "nbconvert_exporter": "python",
   "pygments_lexer": "ipython3",
   "version": "3.7.1"
  }
 },
 "nbformat": 4,
 "nbformat_minor": 2
}
